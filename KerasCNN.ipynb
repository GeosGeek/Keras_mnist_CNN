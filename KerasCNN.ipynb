{
 "cells": [
  {
   "cell_type": "code",
   "execution_count": 2,
   "metadata": {},
   "outputs": [],
   "source": [
    "import keras\n",
    "from keras.datasets import mnist"
   ]
  },
  {
   "cell_type": "code",
   "execution_count": 3,
   "metadata": {},
   "outputs": [],
   "source": [
    "# Split the mnists dataset to train/test\n",
    "(x_train, y_train), (x_test, y_test) = mnist.load_data()"
   ]
  },
  {
   "cell_type": "code",
   "execution_count": 4,
   "metadata": {},
   "outputs": [
    {
     "data": {
      "text/plain": [
       "<matplotlib.image.AxesImage at 0x15cc9d87470>"
      ]
     },
     "execution_count": 4,
     "metadata": {},
     "output_type": "execute_result"
    }
   ],
   "source": [
    "import matplotlib.pyplot as plt\n",
    "# Plot the first image in the dataset\n",
    "plt.imshow(x_train[0])"
   ]
  },
  {
   "cell_type": "code",
   "execution_count": 5,
   "metadata": {},
   "outputs": [
    {
     "data": {
      "text/plain": [
       "(28, 28)"
      ]
     },
     "execution_count": 5,
     "metadata": {},
     "output_type": "execute_result"
    }
   ],
   "source": [
    "# Check the dimensions of the first image\n",
    "# All images in this dataset are 28x28 pixels, this does not happen with real-world datasets. Each image must be reshaped. \n",
    "x_train[0].shape"
   ]
  },
  {
   "cell_type": "code",
   "execution_count": 6,
   "metadata": {},
   "outputs": [],
   "source": [
    "# Reshape the data to fit the model.\n",
    "# We want 60,000 images in the train set and 10,000 in the test set. 28x28 are the dimensions of the image,\n",
    "# 1 represents the images as greyscale. \n",
    "x_train = x_train.reshape(60000,28,28,1)\n",
    "x_test = x_test.reshape(10000,28,28,1)"
   ]
  },
  {
   "cell_type": "code",
   "execution_count": 7,
   "metadata": {},
   "outputs": [
    {
     "data": {
      "text/plain": [
       "array([0., 0., 0., 0., 0., 1., 0., 0., 0., 0.], dtype=float32)"
      ]
     },
     "execution_count": 7,
     "metadata": {},
     "output_type": "execute_result"
    }
   ],
   "source": [
    "# one-hot encode the target column\n",
    "# A column will be created for each output category and binary variable is inputted for each category. \n",
    "from keras.utils import to_categorical\n",
    "y_train = to_categorical(y_train)\n",
    "y_test = to_categorical(y_test)\n",
    "y_train[0]"
   ]
  },
  {
   "cell_type": "code",
   "execution_count": 8,
   "metadata": {},
   "outputs": [
    {
     "name": "stdout",
     "output_type": "stream",
     "text": [
      "WARNING:tensorflow:From C:\\Users\\Matt\\Anaconda3\\envs\\tf-gpu\\lib\\site-packages\\tensorflow\\python\\framework\\op_def_library.py:263: colocate_with (from tensorflow.python.framework.ops) is deprecated and will be removed in a future version.\n",
      "Instructions for updating:\n",
      "Colocations handled automatically by placer.\n"
     ]
    }
   ],
   "source": [
    "# Build the model\n",
    "# The Sewuential model allows us to build the model layer by layer.\n",
    "# The first 2 layers are convolutional layers which are 2D matrices, that will handle the input images. \n",
    "# 32 and 64 are the number of nodes in each conv layer, kernel size is the size of our filter matrix (we will have a 3x3 matrix), \n",
    "# ReLU is our activation function Rectified Linear Units has proven to work well on neural nets.\n",
    "# The first layer also takes an input image of size 28x28 with 1 signifying the images are greyscale.\n",
    "# The flatten layers serves as a connection between the conv & dense layers.\n",
    "# There will be 10 nodes in the output (dense) layer, 0-9.\n",
    "# Softmax outputs the sum up to 1 so the output can be interperetted as probabilities. \n",
    "\n",
    "from keras.models import Sequential\n",
    "from keras.layers import Dense, Conv2D, Flatten\n",
    "model = Sequential()\n",
    "model.add(Conv2D(64, kernel_size=3, activation='relu', input_shape=(28,28,1)))\n",
    "model.add(Conv2D(32, kernel_size=3, activation='relu'))\n",
    "model.add(Flatten())\n",
    "model.add(Dense(10, activation='softmax'))"
   ]
  },
  {
   "cell_type": "code",
   "execution_count": 9,
   "metadata": {},
   "outputs": [],
   "source": [
    "# Compile the model using accuracy to measure performance\n",
    "model.compile(optimizer='adam', loss='categorical_crossentropy', \n",
    "              metrics=['accuracy'])"
   ]
  },
  {
   "cell_type": "code",
   "execution_count": 10,
   "metadata": {},
   "outputs": [
    {
     "name": "stdout",
     "output_type": "stream",
     "text": [
      "WARNING:tensorflow:From C:\\Users\\Matt\\Anaconda3\\envs\\tf-gpu\\lib\\site-packages\\tensorflow\\python\\ops\\math_ops.py:3066: to_int32 (from tensorflow.python.ops.math_ops) is deprecated and will be removed in a future version.\n",
      "Instructions for updating:\n",
      "Use tf.cast instead.\n",
      "Train on 60000 samples, validate on 10000 samples\n",
      "Epoch 1/3\n",
      "60000/60000 [==============================] - 13s 214us/step - loss: 1.1379 - acc: 0.8945 - val_loss: 0.1052 - val_acc: 0.9658\n",
      "Epoch 2/3\n",
      "60000/60000 [==============================] - 10s 165us/step - loss: 0.0658 - acc: 0.9798 - val_loss: 0.0793 - val_acc: 0.9766\n",
      "Epoch 3/3\n",
      "60000/60000 [==============================] - 10s 166us/step - loss: 0.0424 - acc: 0.9868 - val_loss: 0.0756 - val_acc: 0.9770\n"
     ]
    },
    {
     "data": {
      "text/plain": [
       "<keras.callbacks.History at 0x15cd2214da0>"
      ]
     },
     "execution_count": 10,
     "metadata": {},
     "output_type": "execute_result"
    }
   ],
   "source": [
    "# Training\n",
    "model.fit(x_train, y_train, validation_data=(x_test, y_test), epochs=3)"
   ]
  },
  {
   "cell_type": "code",
   "execution_count": 11,
   "metadata": {},
   "outputs": [
    {
     "data": {
      "text/plain": [
       "array([[1.4922288e-10, 3.9663776e-11, 1.8808815e-07, 7.3652167e-08,\n",
       "        5.4956816e-14, 2.7808905e-12, 4.4245648e-13, 9.9999976e-01,\n",
       "        4.0899412e-08, 2.0049298e-09],\n",
       "       [1.8175333e-05, 4.3814957e-08, 9.9997723e-01, 3.1223424e-09,\n",
       "        5.5305292e-11, 1.6007129e-12, 3.8078861e-06, 8.2390373e-14,\n",
       "        6.9855668e-07, 4.4817454e-13],\n",
       "       [3.6128654e-07, 9.9969673e-01, 9.6329622e-06, 1.5997142e-07,\n",
       "        1.6595370e-05, 2.5065704e-06, 2.3997625e-06, 9.0139599e-07,\n",
       "        2.7077430e-04, 1.5358997e-09],\n",
       "       [9.9999738e-01, 2.9939221e-10, 7.6879581e-07, 1.6948108e-09,\n",
       "        1.7585746e-08, 2.0209071e-10, 1.4523436e-06, 2.8694802e-09,\n",
       "        2.0537676e-08, 4.8945520e-07]], dtype=float32)"
      ]
     },
     "execution_count": 11,
     "metadata": {},
     "output_type": "execute_result"
    }
   ],
   "source": [
    "# Using the model to predict.\n",
    "# The predict funtion returns an array of 10 numbers that are probabilities of the unput being each digit. \n",
    "# The array index with the highest number is the digit the model predicts. \n",
    "model.predict(x_test[:4])"
   ]
  },
  {
   "cell_type": "code",
   "execution_count": null,
   "metadata": {},
   "outputs": [],
   "source": []
  }
 ],
 "metadata": {
  "kernelspec": {
   "display_name": "Python 3",
   "language": "python",
   "name": "python3"
  },
  "language_info": {
   "codemirror_mode": {
    "name": "ipython",
    "version": 3
   },
   "file_extension": ".py",
   "mimetype": "text/x-python",
   "name": "python",
   "nbconvert_exporter": "python",
   "pygments_lexer": "ipython3",
   "version": "3.7.3"
  }
 },
 "nbformat": 4,
 "nbformat_minor": 2
}
